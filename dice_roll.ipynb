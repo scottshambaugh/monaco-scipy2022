{
 "cells": [
  {
   "cell_type": "markdown",
   "id": "851cbfd9",
   "metadata": {},
   "source": [
    "## Live Demo: Dice Roll"
   ]
  },
  {
   "cell_type": "markdown",
   "id": "00488d97",
   "metadata": {},
   "source": [
    "Roll a pair of 6-sided dice and compute their sum.\n",
    "\n",
    "Steps:    \n",
    "1) Write 3 user-defined functions    \n",
    "2) Initialize Sim object    \n",
    "3) Define input distributions    \n",
    "4) Run the sim    \n",
    "5) Analyze the results    \n",
    "\n",
    "<img src=\"val_var_case_architecture.png\" style=\"float:left\" width=\"450\"/>\n"
   ]
  },
  {
   "cell_type": "code",
   "execution_count": 1,
   "id": "bfdd3533",
   "metadata": {},
   "outputs": [],
   "source": [
    "# Imports\n",
    "import monaco as mc\n",
    "from scipy.stats import randint"
   ]
  },
  {
   "cell_type": "code",
   "execution_count": 2,
   "id": "6484e1b2",
   "metadata": {},
   "outputs": [],
   "source": [
    "# 3 User Functions\n",
    "\n",
    "# Run function\n",
    "def run(die1, die2):\n",
    "    dicesum = die1 + die2\n",
    "    return (dicesum, )\n",
    "\n",
    "# Preprocess function\n",
    "def preprocess(case):\n",
    "    die1 = case.invals['die1'].val\n",
    "    die2 = case.invals['die2'].val\n",
    "    return (die1, die2)\n",
    "\n",
    "# Postprocess function\n",
    "def postprocess(case, dicesum):\n",
    "    case.addOutVal(name='Sum', val=dicesum)\n",
    "    \n",
    "# User functions dict\n",
    "fcns = {'run'        : run,\n",
    "        'preprocess' : preprocess,\n",
    "        'postprocess': postprocess}"
   ]
  },
  {
   "cell_type": "code",
   "execution_count": 3,
   "id": "6979058c",
   "metadata": {},
   "outputs": [],
   "source": [
    "# Initialize sim object\n",
    "sim = mc.Sim(name='Dice Roll', ndraws=256, fcns=fcns, seed=12345, singlethreaded=True)"
   ]
  },
  {
   "cell_type": "code",
   "execution_count": 4,
   "id": "6ab971ed",
   "metadata": {},
   "outputs": [],
   "source": [
    "# Add input variables\n",
    "sim.addInVar(name='die1', dist=randint, distkwargs={'low': 1, 'high': 7})\n",
    "sim.addInVar(name='die2', dist=randint, distkwargs={'low': 1, 'high': 7})"
   ]
  },
  {
   "cell_type": "code",
   "execution_count": 5,
   "id": "b29201e6",
   "metadata": {},
   "outputs": [
    {
     "name": "stdout",
     "output_type": "stream",
     "text": [
      "Running 'Dice Roll' Monte Carlo simulation with 256/256 cases...\n",
      "Drawing random samples for 2 input variables via the 'sobol_random' method... Done\n",
      "Generating cases... Done\n"
     ]
    },
    {
     "name": "stderr",
     "output_type": "stream",
     "text": [
      "Preprocessing cases: 100%|████████████████████████████████████████████████████| 256/256 [00:00<00:00, 219848.86 cases/s]\n",
      "Running cases: 100%|██████████████████████████████████████████████████████████| 256/256 [00:00<00:00, 106839.98 cases/s]\n",
      "Postprocessing cases: 100%|████████████████████████████████████████████████████| 256/256 [00:00<00:00, 57293.73 cases/s]"
     ]
    },
    {
     "name": "stdout",
     "output_type": "stream",
     "text": [
      "Simulation complete! Runtime: 0:00:00.043598\n"
     ]
    },
    {
     "name": "stderr",
     "output_type": "stream",
     "text": [
      "\n"
     ]
    }
   ],
   "source": [
    "# Run the sim\n",
    "sim.runSim()"
   ]
  },
  {
   "cell_type": "code",
   "execution_count": 6,
   "id": "7d99e6c3",
   "metadata": {},
   "outputs": [
    {
     "data": {
      "text/plain": [
       "(<Figure size 432x288 with 1 Axes>,\n",
       " <AxesSubplot:xlabel='Sum', ylabel='Probability Density'>)"
      ]
     },
     "execution_count": 6,
     "metadata": {},
     "output_type": "execute_result"
    },
    {
     "data": {
      "image/png": "[encoded data removed]",
      "text/plain": [
       "<Figure size 432x288 with 1 Axes>"
      ]
     },
     "metadata": {
      "needs_background": "light"
     },
     "output_type": "display_data"
    }
   ],
   "source": [
    "# Plot results\n",
    "mc.plot(sim.vars['Sum'], plotkwargs={'bins': 10})"
   ]
  },
  {
   "cell_type": "code",
   "execution_count": 7,
   "id": "85762859",
   "metadata": {},
   "outputs": [
    {
     "data": {
      "text/plain": [
       "(<Figure size 432x288 with 1 Axes>,\n",
       " <AxesSubplot:xlabel='Sum', ylabel='Probability Density'>)"
      ]
     },
     "execution_count": 7,
     "metadata": {},
     "output_type": "execute_result"
    },
    {
     "data": {
      "image/png": "[encoded data removed]",
      "text/plain": [
       "<Figure size 432x288 with 1 Axes>"
      ]
     },
     "metadata": {
      "needs_background": "light"
     },
     "output_type": "display_data"
    }
   ],
   "source": [
    "# Add variable statistics and plot again\n",
    "sim.vars['Sum'].addVarStat('mean')\n",
    "sim.vars['Sum'].addVarStat('percentile', {'p':[0.05, 0.95]})\n",
    "mc.plot(sim.vars['Sum'], plotkwargs={'bins': 10})"
   ]
  },
  {
   "cell_type": "code",
   "execution_count": null,
   "id": "742b93fd",
   "metadata": {},
   "outputs": [],
   "source": []
  }
 ],
 "metadata": {
  "kernelspec": {
   "display_name": "Python 3 (ipykernel)",
   "language": "python",
   "name": "python3"
  },
  "language_info": {
   "codemirror_mode": {
    "name": "ipython",
    "version": 3
   },
   "file_extension": ".py",
   "mimetype": "text/x-python",
   "name": "python",
   "nbconvert_exporter": "python",
   "pygments_lexer": "ipython3",
   "version": "3.10.4"
  }
 },
 "nbformat": 4,
 "nbformat_minor": 5
}
